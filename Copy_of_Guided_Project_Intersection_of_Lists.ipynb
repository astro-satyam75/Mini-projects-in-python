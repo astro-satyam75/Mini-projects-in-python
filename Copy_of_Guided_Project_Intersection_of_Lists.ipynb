{
  "nbformat": 4,
  "nbformat_minor": 0,
  "metadata": {
    "kernelspec": {
      "display_name": "Python 3",
      "language": "python",
      "name": "python3"
    },
    "language_info": {
      "codemirror_mode": {
        "name": "ipython",
        "version": 3
      },
      "file_extension": ".py",
      "mimetype": "text/x-python",
      "name": "python",
      "nbconvert_exporter": "python",
      "pygments_lexer": "ipython3",
      "version": "3.7.1"
    },
    "colab": {
      "name": "Copy of Guided Project - Intersection of Lists.ipynb",
      "provenance": [],
      "collapsed_sections": []
    }
  },
  "cells": [
    {
      "cell_type": "markdown",
      "metadata": {
        "id": "rtBrwN-Aexbo"
      },
      "source": [
        "Given a list of n lists, write a function which returns the intersection of all the n lists. Each list can have any number of elements.\n",
        "\n",
        "Example 1:\n",
        "\n",
        "```\n",
        "input = [[5, 5, 5, 8, 10], \n",
        "      [5, 5, 7, 8], \n",
        "      [5, 5, 8, 9, 11]]\n",
        "```\n",
        "\n",
        "```\n",
        "output = [5, 5, 8]\n",
        "```\n",
        "\n",
        "Example 2:\n",
        "\n",
        "```\n",
        "input = [[5, 6], \n",
        "      [5, 5, 7, 8], \n",
        "      [5, 5, 8, 9]]\n",
        "```\n",
        "\n",
        "\n",
        "```\n",
        "output = [5]\n",
        "```"
      ]
    },
    {
      "cell_type": "code",
      "source": [
        "def intersection_of_lists():\n",
        "  \n",
        "  prime_list = []\n",
        "  number_of_lists_inside_the_list = int(input())\n",
        "\n",
        "  prime_list = [list(map(int, input().split())) for j in range(number_of_lists_inside_the_list)]\n",
        "\n",
        "  print('\\n\\n',prime_list,'\\n\\n')\n",
        "\n",
        "  result = []\n",
        "\n",
        "  intersecting_elements = [elem for i in range(1,len(prime_list)-1) for elem in (prime_list[i]) if elem in set(prime_list[i+1])]\n",
        "  last_and_first = [elem for elem in (prime_list[0]) if elem in set(prime_list[-1])]\n",
        "  \n",
        "  print(intersecting_elements,'\\n',last_and_first)\n",
        "\n",
        "  for res in intersecting_elements:\n",
        "    if res in last_and_first:\n",
        "      result.append(res)\n",
        "      last_and_first.remove(res)\n",
        "  \n",
        " \n",
        "  \n",
        "\n",
        "  return result\n",
        "  \n",
        "\n"
      ],
      "metadata": {
        "id": "Cy3eAEhyG_C7"
      },
      "execution_count": null,
      "outputs": []
    },
    {
      "cell_type": "code",
      "source": [
        "intersection_of_lists()"
      ],
      "metadata": {
        "id": "9WeeaWdrbFnz",
        "outputId": "70f1919b-cee7-41ee-a1ea-3ef1e10a12d7",
        "colab": {
          "base_uri": "https://localhost:8080/"
        }
      },
      "execution_count": null,
      "outputs": [
        {
          "output_type": "stream",
          "name": "stdout",
          "text": [
            "4\n",
            "5 8 9 4 6\n",
            "5 8 1 1 1 1 1\n",
            "0 8 7 5\n",
            "5 8 9 4 6 1 2 3\n",
            "\n",
            "\n",
            " [[5, 8, 9, 4, 6], [5, 8, 1, 1, 1, 1, 1], [0, 8, 7, 5], [5, 8, 9, 4, 6, 1, 2, 3]] \n",
            "\n",
            "\n",
            "[5, 8, 8, 5] \n",
            " [5, 8, 9, 4, 6]\n"
          ]
        },
        {
          "output_type": "execute_result",
          "data": {
            "text/plain": [
              "[5, 8]"
            ]
          },
          "metadata": {},
          "execution_count": 9
        }
      ]
    }
  ]
}